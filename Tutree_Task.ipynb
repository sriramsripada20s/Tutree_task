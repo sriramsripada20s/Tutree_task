{
  "nbformat": 4,
  "nbformat_minor": 0,
  "metadata": {
    "colab": {
      "name": "Tutree Internship - Assignment.ipynb",
      "provenance": [],
      "collapsed_sections": []
    },
    "kernelspec": {
      "name": "python3",
      "display_name": "Python 3"
    }
  },
  "cells": [
    {
      "cell_type": "markdown",
      "metadata": {
        "id": "H6qkWYG-6Kji"
      },
      "source": [
        "##Question: 1. Explain dimension reduction in machine learning.\n"
      ]
    },
    {
      "cell_type": "markdown",
      "metadata": {
        "id": "UcugO8gKdAOY"
      },
      "source": [
        "Dimensonality reduction in machine learning is simply reducing the number of dimensions of the feature set. \n",
        "\n",
        "Eg- If the feature set is a dataset with a 200 columns (i.e features).In dimensionality reduction we try to reduce the number of columns to 20 or 30.\n",
        "\n",
        "So in Dimensionality reduction we try to remove features which have more amount of noise and use only those features having less noise so that our model can have better predictions and accuracy."
      ]
    },
    {
      "cell_type": "markdown",
      "metadata": {
        "id": "5MZSx-H4gpzv"
      },
      "source": [
        "We have two most popular techniques for dimensionality reduction\n",
        "\n",
        "##1.PCA(Principal component Analysis) \n",
        "\n",
        "Eigen vectors are computed.Higher the eigenvalue, higher will be the variance along that eigenvector. Hence features with highest variance all only selected rest all the features are dropped\n",
        "\n",
        "##2.Autoencoders\n",
        "\n",
        "Autoencoders are Unsupervised Neural Network appraoch.Here the encoders compress the input(by reducing no of dimensions-dimensionality reduction) and decoders encode back by reconstructing the input."
      ]
    },
    {
      "cell_type": "markdown",
      "metadata": {
        "id": "B-E8YaDL6XdF"
      },
      "source": [
        "###QUESTION: 2  How can you handle duplicate values in a dataset for a variable in Python using pandas? Suppose, you are given the following dataset: df = pd.read_csv('file.csv') This dataset has many duplicate values. You need to identify them and also remove them."
      ]
    },
    {
      "cell_type": "code",
      "metadata": {
        "id": "xoPuPi3n9EGh"
      },
      "source": [
        "import pandas as pd"
      ],
      "execution_count": 1,
      "outputs": []
    },
    {
      "cell_type": "markdown",
      "metadata": {
        "id": "CBPr7GR3Nb0r"
      },
      "source": [
        "The pandas dataframe is used to read the CSV file named 'file.csv' and the dataframe is displayed"
      ]
    },
    {
      "cell_type": "code",
      "metadata": {
        "id": "QCsj-fXfr0t2"
      },
      "source": [
        "df = pd.read_csv('file.csv')\n",
        "df"
      ],
      "execution_count": null,
      "outputs": []
    },
    {
      "cell_type": "markdown",
      "metadata": {
        "id": "Og-Le5u2aEco"
      },
      "source": [
        "Assuming that the CSV File contains this random duplicate data "
      ]
    },
    {
      "cell_type": "code",
      "metadata": {
        "id": "9aLYqTX9aAow"
      },
      "source": [
        "df = pd.DataFrame({'brand': ['adidas', 'nike', 'adidas', 'puma', 'nike','bata','tommy'],\n",
        "                   'type': ['shoe', 'dress', 'dress', 'shoe', 'blazer','bands','shoe'],\n",
        "                   'rating': [4, 4, 3.5, 15, 5,2.4,5],\n",
        "                   'country':['adidas', 'nike', 'adidas', 'puma', 'nike','bata','tommy'],\n",
        "                   'address':[4, 4, 3.5, 15, 5,2.4,5]})"
      ],
      "execution_count": 2,
      "outputs": []
    },
    {
      "cell_type": "markdown",
      "metadata": {
        "id": "krGjfC5wn1oX"
      },
      "source": [
        "The below dataframe created in order to test my fuction. \n",
        "\n",
        "As we can see in the below dataframe i have duplicated the same values for country and address column, so in further analysis we have to identify the column names whcih have these duplicate values"
      ]
    },
    {
      "cell_type": "code",
      "metadata": {
        "id": "MMPhhzZhaiJe",
        "outputId": "0e4fac8a-9dbd-4165-8675-05c54933a1d9",
        "colab": {
          "base_uri": "https://localhost:8080/",
          "height": 254
        }
      },
      "source": [
        "df"
      ],
      "execution_count": 3,
      "outputs": [
        {
          "output_type": "execute_result",
          "data": {
            "text/html": [
              "<div>\n",
              "<style scoped>\n",
              "    .dataframe tbody tr th:only-of-type {\n",
              "        vertical-align: middle;\n",
              "    }\n",
              "\n",
              "    .dataframe tbody tr th {\n",
              "        vertical-align: top;\n",
              "    }\n",
              "\n",
              "    .dataframe thead th {\n",
              "        text-align: right;\n",
              "    }\n",
              "</style>\n",
              "<table border=\"1\" class=\"dataframe\">\n",
              "  <thead>\n",
              "    <tr style=\"text-align: right;\">\n",
              "      <th></th>\n",
              "      <th>brand</th>\n",
              "      <th>type</th>\n",
              "      <th>rating</th>\n",
              "      <th>country</th>\n",
              "      <th>address</th>\n",
              "    </tr>\n",
              "  </thead>\n",
              "  <tbody>\n",
              "    <tr>\n",
              "      <th>0</th>\n",
              "      <td>adidas</td>\n",
              "      <td>shoe</td>\n",
              "      <td>4.0</td>\n",
              "      <td>adidas</td>\n",
              "      <td>4.0</td>\n",
              "    </tr>\n",
              "    <tr>\n",
              "      <th>1</th>\n",
              "      <td>nike</td>\n",
              "      <td>dress</td>\n",
              "      <td>4.0</td>\n",
              "      <td>nike</td>\n",
              "      <td>4.0</td>\n",
              "    </tr>\n",
              "    <tr>\n",
              "      <th>2</th>\n",
              "      <td>adidas</td>\n",
              "      <td>dress</td>\n",
              "      <td>3.5</td>\n",
              "      <td>adidas</td>\n",
              "      <td>3.5</td>\n",
              "    </tr>\n",
              "    <tr>\n",
              "      <th>3</th>\n",
              "      <td>puma</td>\n",
              "      <td>shoe</td>\n",
              "      <td>15.0</td>\n",
              "      <td>puma</td>\n",
              "      <td>15.0</td>\n",
              "    </tr>\n",
              "    <tr>\n",
              "      <th>4</th>\n",
              "      <td>nike</td>\n",
              "      <td>blazer</td>\n",
              "      <td>5.0</td>\n",
              "      <td>nike</td>\n",
              "      <td>5.0</td>\n",
              "    </tr>\n",
              "    <tr>\n",
              "      <th>5</th>\n",
              "      <td>bata</td>\n",
              "      <td>bands</td>\n",
              "      <td>2.4</td>\n",
              "      <td>bata</td>\n",
              "      <td>2.4</td>\n",
              "    </tr>\n",
              "    <tr>\n",
              "      <th>6</th>\n",
              "      <td>tommy</td>\n",
              "      <td>shoe</td>\n",
              "      <td>5.0</td>\n",
              "      <td>tommy</td>\n",
              "      <td>5.0</td>\n",
              "    </tr>\n",
              "  </tbody>\n",
              "</table>\n",
              "</div>"
            ],
            "text/plain": [
              "    brand    type  rating country  address\n",
              "0  adidas    shoe     4.0  adidas      4.0\n",
              "1    nike   dress     4.0    nike      4.0\n",
              "2  adidas   dress     3.5  adidas      3.5\n",
              "3    puma    shoe    15.0    puma     15.0\n",
              "4    nike  blazer     5.0    nike      5.0\n",
              "5    bata   bands     2.4    bata      2.4\n",
              "6   tommy    shoe     5.0   tommy      5.0"
            ]
          },
          "metadata": {
            "tags": []
          },
          "execution_count": 3
        }
      ]
    },
    {
      "cell_type": "markdown",
      "metadata": {
        "id": "QAArJAUfn0HM"
      },
      "source": [
        ""
      ]
    },
    {
      "cell_type": "markdown",
      "metadata": {
        "id": "HWluqSo2NxxM"
      },
      "source": [
        "We have two main objectives in the given problem statement -\n",
        "\n",
        "1. We need identify/find all the duplicate values in the given dataframe(df) \n",
        "\n",
        "2. We need to remove all the duplicate values in the given dataframe(df)"
      ]
    },
    {
      "cell_type": "markdown",
      "metadata": {
        "id": "hFCYejMIOLyI"
      },
      "source": [
        "##1. Finding duplicate columns in a given dataframe(df)\n",
        "\n",
        "Case -1 :To find duplicate columns we need to iterate over DataFrame columns and for every column the function searches if there are any column existing in DataFrame with same contents/values and returns a list"
      ]
    },
    {
      "cell_type": "code",
      "metadata": {
        "id": "3RwKTDJYEN0v"
      },
      "source": [
        "def dupcol(dataframe):\n",
        "  dupcols = set()\n",
        "# Iterate over all the columns in dataframe\n",
        "\n",
        "  for x in range(dataframe.shape[1]):\n",
        "    col = dataframe.iloc[:, x]                      # Select column at xth index.\n",
        "    for y in range(x + 1, dataframe.shape[1]):      # Iterate over all the columns in DataFrame from (x+1)th index till end\n",
        "       otherCol = dataframe.iloc[:, y]              # Select column at yth index.\n",
        "       if col.equals(otherCol):              # Check if two columns at x and y index are equal\n",
        "         dupcols.add(dataframe.columns.values[y]) \n",
        "  return list(dupcols)                       #functon returns duplicate columns in the form of list"
      ],
      "execution_count": 4,
      "outputs": []
    },
    {
      "cell_type": "markdown",
      "metadata": {
        "id": "Dt6n_j4bZYXj"
      },
      "source": [
        "Calling the above function and store it in variable Columnnames"
      ]
    },
    {
      "cell_type": "code",
      "metadata": {
        "id": "GHdAbjQHY-1M"
      },
      "source": [
        "Columnnames = dupcol(df)"
      ],
      "execution_count": 5,
      "outputs": []
    },
    {
      "cell_type": "markdown",
      "metadata": {
        "id": "6nsj_GtpZv5V"
      },
      "source": [
        "Prints all the column names which have duplicates values in form of List"
      ]
    },
    {
      "cell_type": "code",
      "metadata": {
        "id": "F5uuTnrQZoup",
        "outputId": "59ab4e61-221c-4f6d-d516-ad0868afd763",
        "colab": {
          "base_uri": "https://localhost:8080/"
        }
      },
      "source": [
        "Columnnames"
      ],
      "execution_count": 6,
      "outputs": [
        {
          "output_type": "execute_result",
          "data": {
            "text/plain": [
              "['address', 'country']"
            ]
          },
          "metadata": {
            "tags": []
          },
          "execution_count": 6
        }
      ]
    },
    {
      "cell_type": "markdown",
      "metadata": {
        "id": "7i7u1RQTaRnD"
      },
      "source": [
        "Now that we have got the names of all the columns having duplicate values we can now perform the second step\n",
        "\n",
        "##2.We need to remove all the duplicate values in the given dataframe(df)"
      ]
    },
    {
      "cell_type": "code",
      "metadata": {
        "id": "9tu__M5yZ4p8"
      },
      "source": [
        "# 2.1 - Drop duplicate columns by calling the function\n",
        "\n",
        "df = df.drop(columns= dupcol(df))"
      ],
      "execution_count": 7,
      "outputs": []
    },
    {
      "cell_type": "markdown",
      "metadata": {
        "id": "kMAfIIlIvNza"
      },
      "source": [
        "As you can see in the below dataframe the duplicate columns have been dropped by calling the function"
      ]
    },
    {
      "cell_type": "code",
      "metadata": {
        "id": "QWGxBprYu6o3",
        "outputId": "de6b21ec-8f53-44dc-f742-6ab1092c0be2",
        "colab": {
          "base_uri": "https://localhost:8080/",
          "height": 254
        }
      },
      "source": [
        "df"
      ],
      "execution_count": 8,
      "outputs": [
        {
          "output_type": "execute_result",
          "data": {
            "text/html": [
              "<div>\n",
              "<style scoped>\n",
              "    .dataframe tbody tr th:only-of-type {\n",
              "        vertical-align: middle;\n",
              "    }\n",
              "\n",
              "    .dataframe tbody tr th {\n",
              "        vertical-align: top;\n",
              "    }\n",
              "\n",
              "    .dataframe thead th {\n",
              "        text-align: right;\n",
              "    }\n",
              "</style>\n",
              "<table border=\"1\" class=\"dataframe\">\n",
              "  <thead>\n",
              "    <tr style=\"text-align: right;\">\n",
              "      <th></th>\n",
              "      <th>brand</th>\n",
              "      <th>type</th>\n",
              "      <th>rating</th>\n",
              "    </tr>\n",
              "  </thead>\n",
              "  <tbody>\n",
              "    <tr>\n",
              "      <th>0</th>\n",
              "      <td>adidas</td>\n",
              "      <td>shoe</td>\n",
              "      <td>4.0</td>\n",
              "    </tr>\n",
              "    <tr>\n",
              "      <th>1</th>\n",
              "      <td>nike</td>\n",
              "      <td>dress</td>\n",
              "      <td>4.0</td>\n",
              "    </tr>\n",
              "    <tr>\n",
              "      <th>2</th>\n",
              "      <td>adidas</td>\n",
              "      <td>dress</td>\n",
              "      <td>3.5</td>\n",
              "    </tr>\n",
              "    <tr>\n",
              "      <th>3</th>\n",
              "      <td>puma</td>\n",
              "      <td>shoe</td>\n",
              "      <td>15.0</td>\n",
              "    </tr>\n",
              "    <tr>\n",
              "      <th>4</th>\n",
              "      <td>nike</td>\n",
              "      <td>blazer</td>\n",
              "      <td>5.0</td>\n",
              "    </tr>\n",
              "    <tr>\n",
              "      <th>5</th>\n",
              "      <td>bata</td>\n",
              "      <td>bands</td>\n",
              "      <td>2.4</td>\n",
              "    </tr>\n",
              "    <tr>\n",
              "      <th>6</th>\n",
              "      <td>tommy</td>\n",
              "      <td>shoe</td>\n",
              "      <td>5.0</td>\n",
              "    </tr>\n",
              "  </tbody>\n",
              "</table>\n",
              "</div>"
            ],
            "text/plain": [
              "    brand    type  rating\n",
              "0  adidas    shoe     4.0\n",
              "1    nike   dress     4.0\n",
              "2  adidas   dress     3.5\n",
              "3    puma    shoe    15.0\n",
              "4    nike  blazer     5.0\n",
              "5    bata   bands     2.4\n",
              "6   tommy    shoe     5.0"
            ]
          },
          "metadata": {
            "tags": []
          },
          "execution_count": 8
        }
      ]
    },
    {
      "cell_type": "code",
      "metadata": {
        "id": "u-gvml2xbsS4"
      },
      "source": [
        "# 2.2 - If we want to drop duplicate columns by naming the column names specifically\n",
        "df = df.drop_duplicates([subset='col_name1','col_name2'])"
      ],
      "execution_count": null,
      "outputs": []
    },
    {
      "cell_type": "code",
      "metadata": {
        "id": "kqck9BsO9Mwx"
      },
      "source": [
        "# So if we want to remove duplicate values in one 1 column -\n",
        "df = df.drop_duplicates(['column_name'])"
      ],
      "execution_count": null,
      "outputs": []
    },
    {
      "cell_type": "code",
      "metadata": {
        "id": "bkkN50nrJ6pj"
      },
      "source": [
        "# So if we want to remove duplicate rows based on all columns in the dataset\n",
        "df = df.drop_duplicates()"
      ],
      "execution_count": null,
      "outputs": []
    }
  ]
}